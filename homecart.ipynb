{
 "cells": [
  {
   "cell_type": "code",
   "execution_count": null,
   "metadata": {},
   "outputs": [],
   "source": [
    "from pydrake.all import (AddMultibodyPlantSceneGraph, DiagramBuilder,\n",
    "                         IrisInConfigurationSpace, IrisOptions, JointSliders,\n",
    "                         LoadModelDirectives, MeshcatVisualizer, Parser,\n",
    "                         ProcessModelDirectives, StartMeshcat)\n",
    "\n",
    "from reproduction.util import *\n"
   ]
  },
  {
   "cell_type": "code",
   "execution_count": null,
   "metadata": {},
   "outputs": [],
   "source": [
    "meshcat = StartMeshcat()"
   ]
  },
  {
   "cell_type": "code",
   "execution_count": null,
   "metadata": {},
   "outputs": [],
   "source": [
    "seed_points = {\n",
    "    'nominal':\n",
    "    [1.2, -0.7, 1.2, -2.1, -1.8, -0.1, -1.3, -2.5, -1.1, -1.3, 1.6, 0]\n",
    "}\n",
    "\n",
    "def parse_homecart(plant):\n",
    "    parser = Parser(plant)\n",
    "    parser.package_map().Add(\"gcs\", GcsDir())\n",
    "    directives = LoadModelDirectives(\n",
    "        FindModelFile('models/homecart.yaml'))\n",
    "    ProcessModelDirectives(directives, plant, parser)\n",
    "\n",
    "def teleop_pose_seeds(q0=None):\n",
    "    meshcat.Delete()\n",
    "    meshcat.DeleteAddedControls()\n",
    "    meshcat.SetProperty('/Background', 'visible', False)\n",
    "    builder = DiagramBuilder()\n",
    "\n",
    "    plant, scene_graph = AddMultibodyPlantSceneGraph(builder, time_step=0.001)\n",
    "    parse_homecart(plant)\n",
    "    plant.Finalize()\n",
    "\n",
    "    MeshcatVisualizer.AddToBuilder(builder, scene_graph, meshcat)\n",
    "\n",
    "    sliders = builder.AddSystem(JointSliders(meshcat, plant, initial_value=q0))\n",
    "    diagram = builder.Build()\n",
    "    sliders.Run(diagram)\n",
    "\n",
    "teleop_pose_seeds(seed_points['nominal'])"
   ]
  },
  {
   "cell_type": "code",
   "execution_count": null,
   "metadata": {},
   "outputs": [],
   "source": [
    "import time\n",
    "\n",
    "def run_iris(seed):\n",
    "    builder = DiagramBuilder()\n",
    "    plant, scene_graph = AddMultibodyPlantSceneGraph(builder, time_step=0.001)\n",
    "    parse_homecart(plant)\n",
    "    plant.Finalize()\n",
    "    diagram = builder.Build()\n",
    "\n",
    "    context = diagram.CreateDefaultContext()\n",
    "    plant_context = plant.GetMyContextFromRoot(context)\n",
    "    plant.SetPositions(plant_context, seed)\n",
    "    \n",
    "    iris_options = IrisOptions()\n",
    "    iris_options.require_sample_point_is_contained = True\n",
    "    iris_options.iteration_limit = 5\n",
    "    iris_options.termination_threshold = -1\n",
    "    iris_options.relative_termination_threshold = 0.02\n",
    "    iris_options.enable_ibex = False\n",
    "\n",
    "    start_time = time.time()\n",
    "    hpoly = IrisInConfigurationSpace(plant, plant_context, iris_options)\n",
    "    print(\"Time:\", np.round((time.time() - start_time)/60., 4),\n",
    "          \"minutes.\\tFaces\", len(hpoly.b()), flush=True)\n",
    "    return hpoly\n",
    "\n",
    "run_iris(seed_points['nominal'])"
   ]
  },
  {
   "cell_type": "code",
   "execution_count": null,
   "metadata": {},
   "outputs": [],
   "source": []
  }
 ],
 "metadata": {
  "interpreter": {
   "hash": "b0fa6594d8f4cbf19f97940f81e996739fb7646882a419484c72d19e05852a7e"
  },
  "kernelspec": {
   "display_name": "Python 3.9.12 64-bit",
   "language": "python",
   "name": "python3"
  },
  "language_info": {
   "codemirror_mode": {
    "name": "ipython",
    "version": 3
   },
   "file_extension": ".py",
   "mimetype": "text/x-python",
   "name": "python",
   "nbconvert_exporter": "python",
   "pygments_lexer": "ipython3",
   "version": "3.9.12"
  },
  "orig_nbformat": 4
 },
 "nbformat": 4,
 "nbformat_minor": 2
}
