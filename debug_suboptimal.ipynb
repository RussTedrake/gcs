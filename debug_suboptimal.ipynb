{
 "cells": [
  {
   "cell_type": "code",
   "execution_count": null,
   "metadata": {},
   "outputs": [],
   "source": [
    "%load_ext autoreload\n",
    "%autoreload 2\n",
    "\n",
    "import numpy as np\n",
    "import pickle\n",
    "\n",
    "from pydrake.all import MosekSolver\n",
    "\n",
    "from spp.bezier import BezierSPP"
   ]
  },
  {
   "cell_type": "code",
   "execution_count": null,
   "metadata": {},
   "outputs": [],
   "source": [
    "def build_bezier_gcs(regions):\n",
    "    order = 7\n",
    "    continuity = 4\n",
    "    vel_limit = 10 * np.ones(3)\n",
    "    hdot_min = 1e-3\n",
    "    weights = {\"time\": 1., \"norm\": 1.}\n",
    "    \n",
    "    gcs = BezierSPP(regions, order, continuity, hdot_min=hdot_min)\n",
    "    gcs.addTimeCost(weights[\"time\"])\n",
    "    gcs.addPathLengthCost(weights[\"norm\"])\n",
    "    gcs.addVelocityLimits(-vel_limit, vel_limit)\n",
    "    gcs.setPaperSolverOptions()\n",
    "    gcs.setSolver(MosekSolver())\n",
    "\n",
    "    return gcs"
   ]
  },
  {
   "cell_type": "code",
   "execution_count": null,
   "metadata": {},
   "outputs": [],
   "source": [
    "start = np.array([-1, -1])\n",
    "goal = np.array([2, 1])\n",
    "start_pose = np.r_[(start-start)*5, 1.]\n",
    "goal_pose = np.r_[(goal-start)*5., 1.]\n",
    "\n",
    "zero_deriv_boundary = 3\n",
    "\n",
    "region_file = \"room_debug/regions.reg\"\n",
    "with open(region_file, \"rb\") as f:\n",
    "    regions = pickle.load(f)\n",
    "    \n",
    "np.random.seed(0)\n",
    "relax_gcs = build_bezier_gcs(regions)\n",
    "relax_output = relax_gcs.SolvePath(start_pose, goal_pose, True, False,\n",
    "                                   zero_deriv_boundary=zero_deriv_boundary, preprocessing=True)\n",
    "b_traj_relax, result_relax, best_result_relax, hard_result_relax, _ = relax_output"
   ]
  }
 ],
 "metadata": {
  "kernelspec": {
   "display_name": "Python 3",
   "language": "python",
   "name": "python3"
  },
  "language_info": {
   "codemirror_mode": {
    "name": "ipython",
    "version": 3
   },
   "file_extension": ".py",
   "mimetype": "text/x-python",
   "name": "python",
   "nbconvert_exporter": "python",
   "pygments_lexer": "ipython3",
   "version": "3.9.10"
  }
 },
 "nbformat": 4,
 "nbformat_minor": 2
}
