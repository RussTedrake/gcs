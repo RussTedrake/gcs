{
 "cells": [
  {
   "cell_type": "code",
   "execution_count": null,
   "metadata": {},
   "outputs": [],
   "source": [
    "%load_ext autoreload\n",
    "%autoreload 2\n",
    "\n",
    "import os\n",
    "import shutil\n",
    "import pickle\n",
    "import time\n",
    "import pprint\n",
    "import numpy as np\n",
    "import matplotlib.pyplot as plt\n",
    "from scipy.spatial import ConvexHull\n",
    "from IPython.display import display, Image, SVG\n",
    "\n",
    "from pydrake.examples.quadrotor import QuadrotorGeometry\n",
    "from pydrake.geometry import MeshcatVisualizerCpp, Rgba, StartMeshcat\n",
    "from pydrake.geometry.optimization import HPolyhedron, VPolytope\n",
    "from pydrake.multibody.plant import AddMultibodyPlantSceneGraph\n",
    "from pydrake.multibody.parsing import Parser\n",
    "from pydrake.solvers.gurobi import GurobiSolver\n",
    "from pydrake.solvers.mosek import MosekSolver\n",
    "from pydrake.systems.analysis import Simulator\n",
    "from pydrake.systems.framework import DiagramBuilder, LeafSystem\n",
    "\n",
    "from models.building_generation import *\n",
    "from spp.bezier import BezierSPP\n",
    "from spp.rounding import *\n",
    "\n",
    "g_lic = GurobiSolver.AcquireLicense()\n",
    "m_lic = MosekSolver.AcquireLicense()"
   ]
  },
  {
   "cell_type": "code",
   "execution_count": null,
   "metadata": {},
   "outputs": [],
   "source": [
    "def build_bezier_gcs(regions):\n",
    "    order = 7\n",
    "    continuity = 4\n",
    "    vel_limit = 10 * np.ones(3)\n",
    "    hdot_min = 1e-3\n",
    "    weights = {\"time\": 1., \"norm\": 1.}\n",
    "    \n",
    "    gcs = BezierSPP(regions, order, continuity, hdot_min=hdot_min)\n",
    "    gcs.addTimeCost(weights[\"time\"])\n",
    "    gcs.addPathLengthCost(weights[\"norm\"])\n",
    "    gcs.addVelocityLimits(-vel_limit, vel_limit)\n",
    "    gcs.setPaperSolverOptions()\n",
    "    gcs.setSolver(MosekSolver())\n",
    "#     gcs.setSolver(GurobiSolver())\n",
    "#     regularization = 1e-3\n",
    "#     for derivative in [2, 3, 4]:\n",
    "#         gcs.addDerivativeRegularization(regularization, regularization, derivative)\n",
    "#     gcs.setRoundingStrategy(randomForwardPathSearch)\n",
    "\n",
    "    return gcs"
   ]
  },
  {
   "cell_type": "code",
   "execution_count": null,
   "metadata": {},
   "outputs": [],
   "source": [
    "start = np.array([-1, -1])\n",
    "goal = np.array([2, 1])\n",
    "start_pose = np.r_[(start-start)*5, 1.]\n",
    "goal_pose = np.r_[(goal-start)*5., 1.]\n",
    "\n",
    "zero_deriv_boundary = 3\n",
    "\n",
    "region_file = \"room_debug/regions.reg\"\n",
    "with open(region_file, \"rb\") as f:\n",
    "    regions = pickle.load(f)\n",
    "    \n",
    "np.random.seed(0)\n",
    "relax_gcs = build_bezier_gcs(regions)\n",
    "relax_output = relax_gcs.SolvePath(start_pose, goal_pose, True, False,\n",
    "                                   zero_deriv_boundary=zero_deriv_boundary, preprocessing=True)\n",
    "b_traj_relax, result_relax, best_result_relax, hard_result_relax, _ = relax_output\n",
    "    \n",
    "mip_gcs = build_bezier_gcs(regions)\n",
    "mip_output = mip_gcs.SolvePath(start_pose, goal_pose, False, False,\n",
    "                               zero_deriv_boundary=zero_deriv_boundary)\n",
    "b_traj_mip, result_mip = mip_output[:2]"
   ]
  },
  {
   "cell_type": "code",
   "execution_count": null,
   "metadata": {},
   "outputs": [],
   "source": [
    "display(Image(relax_gcs.VisualizeGraph(\"png\")))"
   ]
  },
  {
   "cell_type": "code",
   "execution_count": null,
   "metadata": {},
   "outputs": [],
   "source": [
    "print(result_relax.get_optimal_cost(), best_result_relax.get_optimal_cost(), result_mip.get_optimal_cost())"
   ]
  },
  {
   "cell_type": "code",
   "execution_count": null,
   "metadata": {},
   "outputs": [],
   "source": []
  }
 ],
 "metadata": {
  "kernelspec": {
   "display_name": "Python 3",
   "language": "python",
   "name": "python3"
  },
  "language_info": {
   "codemirror_mode": {
    "name": "ipython",
    "version": 3
   },
   "file_extension": ".py",
   "mimetype": "text/x-python",
   "name": "python",
   "nbconvert_exporter": "python",
   "pygments_lexer": "ipython3",
   "version": "3.6.9"
  }
 },
 "nbformat": 4,
 "nbformat_minor": 2
}
