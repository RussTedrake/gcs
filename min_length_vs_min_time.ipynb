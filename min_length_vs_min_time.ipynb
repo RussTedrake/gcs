{
 "cells": [
  {
   "cell_type": "code",
   "execution_count": null,
   "id": "4f115611",
   "metadata": {},
   "outputs": [],
   "source": [
    "%matplotlib notebook\n",
    "%load_ext autoreload\n",
    "%autoreload 2\n",
    "\n",
    "import numpy as np\n",
    "import matplotlib.pyplot as plt\n",
    "from scipy.spatial import ConvexHull\n",
    "\n",
    "from pydrake.geometry.optimization import HPolyhedron\n",
    "from pydrake.solvers.mosek import MosekSolver\n",
    "\n",
    "from spp.bezier import BezierSPP\n",
    "from spp.linear import LinearSPP\n",
    "from models.env_2d import obstacles, vertices"
   ]
  },
  {
   "cell_type": "markdown",
   "id": "498d0df4",
   "metadata": {},
   "source": [
    "# Environment setup"
   ]
  },
  {
   "cell_type": "code",
   "execution_count": null,
   "id": "f37eaf4b",
   "metadata": {},
   "outputs": [],
   "source": [
    "x_start = np.array([.2, .2])\n",
    "x_goal = np.array([4.8, 4.8])\n",
    "\n",
    "x_min = np.min(np.vstack(vertices), axis=0)\n",
    "x_max = np.max(np.vstack(vertices), axis=0)\n",
    "\n",
    "def make_hpolytope(V):\n",
    "    ch = ConvexHull(V)\n",
    "    return HPolyhedron(ch.equations[:, :-1], - ch.equations[:, -1])\n",
    "\n",
    "regions = [make_hpolytope(V) for V in vertices]\n",
    "\n",
    "def environment_setup():\n",
    "    \n",
    "    plt.figure(figsize=(3, 3))\n",
    "    plt.axis('square')\n",
    "    \n",
    "    plt.xlim([x_min[0], x_max[0]])\n",
    "    plt.ylim([x_min[1], x_max[1]])\n",
    "    \n",
    "    tick_gap = .2\n",
    "    n_ticks = lambda x_min, x_max: round((x_max - x_min) / tick_gap) + 1\n",
    "    x_ticks = np.linspace(x_min[0], x_max[0], n_ticks(x_min[0], x_max[0]))\n",
    "    y_ticks = np.linspace(x_min[1], x_max[1], n_ticks(x_min[1], x_max[1]))\n",
    "    plt.xticks(x_ticks)\n",
    "    plt.yticks(y_ticks)\n",
    "    \n",
    "    label_gap = .5\n",
    "    keep_label = lambda t: np.isclose(t % label_gap, 0) or np.isclose(t % label_gap, label_gap)\n",
    "    x_labels = [int(t) if keep_label(t) else '' for t in x_ticks]\n",
    "    y_labels = [int(t) if keep_label(t) else '' for t in y_ticks]\n",
    "    plt.gca().set_xticklabels(x_labels)\n",
    "    plt.gca().set_yticklabels(y_labels)\n",
    "    \n",
    "    plt.grid()"
   ]
  },
  {
   "cell_type": "code",
   "execution_count": null,
   "id": "83813d3e",
   "metadata": {},
   "outputs": [],
   "source": [
    "environment_setup()\n",
    "\n",
    "for O in obstacles:\n",
    "    plt.fill(*O.T, fc='lightcoral', ec='k', zorder=4)\n",
    "\n",
    "plt.plot(*x_start, 'kx')\n",
    "plt.plot(*x_goal, 'kx')\n",
    "\n",
    "plt.text(.2, .35, '$q_0$', ha='center', va='bottom')\n",
    "plt.text(4.8, 4.65, '$q_T$', ha='center', va='top')\n",
    "\n",
    "plt.savefig('setup.pdf', bbox_inches='tight')"
   ]
  },
  {
   "cell_type": "code",
   "execution_count": null,
   "id": "b6a3520d",
   "metadata": {},
   "outputs": [],
   "source": [
    "environment_setup()\n",
    "\n",
    "for V in vertices:\n",
    "    plt.fill(*V.T, fc='lightcyan', ec='k', zorder=4)\n",
    "\n",
    "plt.savefig('decomposition.pdf', bbox_inches='tight')"
   ]
  },
  {
   "cell_type": "markdown",
   "id": "da11c1f3",
   "metadata": {},
   "source": [
    "# Minimum-distance problem"
   ]
  },
  {
   "cell_type": "code",
   "execution_count": null,
   "id": "3749bf51",
   "metadata": {},
   "outputs": [],
   "source": [
    "def plot_trajectory(waypoints):\n",
    "\n",
    "    plt.figure(figsize=(3, 3))\n",
    "\n",
    "    for O in obstacles:\n",
    "        plt.fill(*O.T, fc='lightcoral', ec='k', zorder=4)\n",
    "\n",
    "    plt.plot(*x_start, 'kx')\n",
    "    plt.plot(*x_goal, 'kx')\n",
    "    plt.plot(*waypoints, 'b', zorder=5)\n",
    "\n",
    "    plt.axis('square')\n",
    "    plt.xlim([x_min[0], x_max[0]])\n",
    "    plt.ylim([x_min[1], x_max[1]])\n",
    "    plt.xticks(range(6))\n",
    "    plt.yticks(range(6))\n",
    "    plt.grid(1)"
   ]
  },
  {
   "cell_type": "code",
   "execution_count": null,
   "id": "3005ea44",
   "metadata": {},
   "outputs": [],
   "source": [
    "relaxation = True\n",
    "spp = LinearSPP(regions)\n",
    "waypoints = spp.SolvePath(x_start, x_goal, relaxation)[0]\n",
    "plot_trajectory(waypoints)\n",
    "plt.savefig('linear.pdf', bbox_inches='tight')"
   ]
  },
  {
   "cell_type": "markdown",
   "id": "88b8556c",
   "metadata": {},
   "source": [
    "# Minimum-time problem"
   ]
  },
  {
   "cell_type": "code",
   "execution_count": null,
   "id": "f15083fd",
   "metadata": {},
   "outputs": [],
   "source": [
    "qdot_min = -1\n",
    "qdot_max = 1\n",
    "n_samples = 500\n",
    "\n",
    "def solve_bezier(order, continuity, regularizer=None, hdot_min=1e-6, velocity=None):\n",
    "    \n",
    "    spp = BezierSPP(regions, order, continuity, hdot_min=hdot_min)\n",
    "    \n",
    "    spp.addTimeCost(1)\n",
    "    spp.addVelocityLimits([qdot_min] * 2, [qdot_max] * 2)\n",
    "    if regularizer is not None:\n",
    "        spp.addDerivativeRegularization(*regularizer, 2)\n",
    "    \n",
    "    spp.setSolver(MosekSolver())\n",
    "    spp.setPaperSolverOptions()\n",
    "    \n",
    "    traj = spp.SolvePath(x_start, x_goal, relaxation, velocity=velocity)[0]\n",
    "    times = np.linspace(traj.start_time(), traj.end_time(), n_samples)\n",
    "    waypoints = np.squeeze([traj.value(t) for t in times]).T\n",
    "    velocities = np.squeeze([traj.EvalDerivative(t) for t in times]).T\n",
    "\n",
    "    return waypoints, velocities, times"
   ]
  },
  {
   "cell_type": "code",
   "execution_count": null,
   "id": "e5a8edfe",
   "metadata": {},
   "outputs": [],
   "source": [
    "def plot_velocity(velocities, times, tol=np.inf):\n",
    "    \n",
    "    def plot_with_jumps(velocities, color):\n",
    "        for i in range(len(times) - 1):\n",
    "            dv = velocities[i + 1] - velocities[i]\n",
    "            style = '-' if abs(dv) < tol else ':'\n",
    "            plt.plot(times[i:i+2], velocities[i:i+2], color=color, linestyle=style)\n",
    "            \n",
    "    plt.figure(figsize=(3, 2))\n",
    "            \n",
    "    plot_with_jumps(velocities[0], 'tab:blue')\n",
    "    plot_with_jumps(velocities[1], 'tab:orange')\n",
    "\n",
    "    plt.xlim([times[0], times[-1]])\n",
    "    plt.xticks(np.arange(int(np.ceil(times[-1] / 2))) * 2)\n",
    "    plt.yticks(np.linspace(qdot_min, qdot_max, 5))\n",
    "    plt.xlabel('Time $t$')\n",
    "    plt.ylabel('Velocity $\\dot{q}$')\n",
    "    plt.grid()"
   ]
  },
  {
   "cell_type": "code",
   "execution_count": null,
   "id": "aa4fb2fe",
   "metadata": {},
   "outputs": [],
   "source": [
    "order = 1\n",
    "continuity = 0\n",
    "waypoints, velocities, times = solve_bezier(order, continuity)\n",
    "\n",
    "plot_trajectory(waypoints)\n",
    "plt.savefig('bezier_10.pdf', bbox_inches='tight')\n",
    "\n",
    "plot_velocity(velocities, times, tol=1e-1)\n",
    "plt.savefig('bezier_10_vel.pdf', bbox_inches='tight')"
   ]
  },
  {
   "cell_type": "code",
   "execution_count": null,
   "id": "f3a03873",
   "metadata": {},
   "outputs": [],
   "source": [
    "order = 6\n",
    "continuity = 2\n",
    "velocity = np.zeros((2, 2))\n",
    "regularizer = [1e-1, 1e-1]\n",
    "hdot_min = 1e-1\n",
    "waypoints, velocities, times = solve_bezier(order, continuity, regularizer, hdot_min, velocity=velocity)\n",
    "\n",
    "plot_trajectory(waypoints)\n",
    "plt.savefig('bezier_62.pdf', bbox_inches='tight')\n",
    "\n",
    "plot_velocity(velocities, times)\n",
    "plt.savefig('bezier_62_vel.pdf', bbox_inches='tight')"
   ]
  }
 ],
 "metadata": {
  "kernelspec": {
   "display_name": "Python 3",
   "language": "python",
   "name": "python3"
  },
  "language_info": {
   "codemirror_mode": {
    "name": "ipython",
    "version": 3
   },
   "file_extension": ".py",
   "mimetype": "text/x-python",
   "name": "python",
   "nbconvert_exporter": "python",
   "pygments_lexer": "ipython3",
   "version": "3.9.10"
  }
 },
 "nbformat": 4,
 "nbformat_minor": 5
}
