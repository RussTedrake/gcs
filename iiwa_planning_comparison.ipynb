{
 "cells": [
  {
   "cell_type": "code",
   "execution_count": null,
   "metadata": {},
   "outputs": [],
   "source": [
    "%load_ext autoreload\n",
    "%autoreload 2\n",
    "import os\n",
    "import time \n",
    "\n",
    "from pydrake.systems.framework import DiagramBuilder\n",
    "from pydrake.multibody.plant import AddMultibodyPlantSceneGraph\n",
    "from pydrake.multibody.parsing import LoadModelDirectives, Parser, ProcessModelDirectives\n",
    "from pydrake.geometry import Role, RoleAssign\n",
    "from pydrake.systems.meshcat_visualizer import ConnectMeshcatVisualizer\n",
    "from pydrake.geometry.optimization import IrisInConfigurationSpace, IrisOptions\n",
    "from pydrake.planning.common_robotics_utilities import SimpleRRTPlannerState\n",
    "\n",
    "from comparison.planning import PRM, BiRRT\n",
    "from comparison.helpers import ForwardKinematics, visualize_trajectory, get_traj_length, make_traj\n",
    "\n",
    "import numpy as np\n",
    "import pandas as pd\n",
    "\n",
    "from meshcat import Visualizer\n",
    "\n",
    "from spp.linear import LinearSPP\n",
    "\n",
    "\n",
    "from IPython.display import HTML, SVG\n",
    "import multiprocessing as mp\n",
    "\n",
    "from pydrake.solvers.gurobi import GurobiSolver\n",
    "from pydrake.solvers.mosek import MosekSolver\n",
    "GurobiSolver.AcquireLicense()\n",
    "MosekSolver.AcquireLicense()"
   ]
  },
  {
   "cell_type": "code",
   "execution_count": null,
   "metadata": {},
   "outputs": [],
   "source": [
    "# Setup meshcat\n",
    "from meshcat.servers.zmqserver import start_zmq_server_as_subprocess\n",
    "proc, zmq_url, web_url = start_zmq_server_as_subprocess(server_args=[])\n",
    "\n",
    "# Sporadically need to run `pkill -f meshcat`"
   ]
  },
  {
   "cell_type": "code",
   "execution_count": null,
   "metadata": {},
   "outputs": [],
   "source": [
    "SEED = 17"
   ]
  },
  {
   "cell_type": "code",
   "execution_count": null,
   "metadata": {
    "scrolled": false
   },
   "outputs": [],
   "source": [
    "vis = Visualizer(zmq_url=zmq_url)\n",
    "vis.delete()\n",
    "display(vis.jupyter_cell())\n",
    "\n",
    "builder = DiagramBuilder()\n",
    "plant, scene_graph = AddMultibodyPlantSceneGraph(builder, time_step=0.0)\n",
    "parser = Parser(plant)\n",
    "parser.package_map().Add(\"mp-gcs\", os.path.dirname(\"./package.xml\"))\n",
    "\n",
    "directives_file = \"./models/iiwa14_spheres_collision_welded_gripper.yaml\"\n",
    "directives = LoadModelDirectives(directives_file)\n",
    "models = ProcessModelDirectives(directives, plant, parser)\n",
    "[iiwa, wsg, shelf, binR, binL, table] =  models\n",
    " \n",
    "\n",
    "plant.Finalize()\n",
    "\n",
    "viz_role = Role.kIllustration\n",
    "# viz_role = Role.kProximity\n",
    "visualizer = ConnectMeshcatVisualizer(builder, scene_graph, zmq_url=zmq_url,\n",
    "                                      delete_prefix_on_load=False, role=viz_role)\n",
    "diagram = builder.Build()\n",
    "\n",
    "visualizer.load()\n",
    "context = diagram.CreateDefaultContext()\n",
    "#plant_context = plant.GetMyContextFromRoot(context)\n",
    "plant_context = plant.GetMyMutableContextFromRoot(context)\n",
    "#q0 = [1.3, 0.7, 0.0, -1.6, 0.0, 0.8, 1.41]\n",
    "#plant.SetPositions(plant_context, q0)\n",
    "diagram.Publish(context)"
   ]
  },
  {
   "cell_type": "markdown",
   "metadata": {},
   "source": [
    "# Generate Iris Regions\n",
    "### via manual seeds"
   ]
  },
  {
   "cell_type": "code",
   "execution_count": null,
   "metadata": {},
   "outputs": [],
   "source": [
    "iris_options = IrisOptions()\n",
    "iris_options.require_sample_point_is_contained = True\n",
    "iris_options.iteration_limit = 10\n",
    "iris_options.termination_threshold = -1\n",
    "iris_options.relative_termination_threshold = 0.01\n",
    "iris_options.enable_ibex = False\n",
    "CORE_CNT = mp.cpu_count() # you may edit this"
   ]
  },
  {
   "cell_type": "code",
   "execution_count": null,
   "metadata": {},
   "outputs": [],
   "source": [
    "#used for paper \n",
    "seed_points =  {\"Above Shelve\": [0, 0.4, 0, -0.8, 0, 0.35, 1.57],   \n",
    "                \"Top Rack\":[0, 0.45, 0, -1.35, 0, -0.25, 1.57],   \n",
    "                \"Middle Rack\":[0, 0.8, 0, -1.5, 0, -0.7, 1.57],       \n",
    "                \"Left Bin\":[1.57, 0.7, 0, -1.6, 0, 0.8, 1.57], \n",
    "                \"Right Bin\":[-1.57, 0.7, 0, -1.6, 0, 0.8, 1.57],\n",
    "                \"Front to Shelve\":[0, 0.2, 0, -2.09, 0, -0.3, 1.57], \n",
    "                \"Left to Shelve\":[0.8, 0.7, 0, -1.6, 0, 0, 1.57],\n",
    "                \"Right to Shelve\":[-0.8, 0.7, 0, -1.6, 0, 0, 1.57]} "
   ]
  },
  {
   "cell_type": "code",
   "execution_count": null,
   "metadata": {},
   "outputs": [],
   "source": [
    "#optimized for paper\n",
    "seed_points = { \"Above Shelve\": [0, 0.4, 0, -0.8, 0, 0.35, 1.57],       \n",
    "                \"Top Rack\": [0, 0.45, 0, -1.35, 0, -0.25, 1.57],    \n",
    "                \"Middle Rack\": [0, 0.8, 0, -1.5, 0, -0.7, 1.57],       \n",
    "                \"Left Bin\": [1.57, 0.7, 0, -1.6, 0, 0.8, 0],          \n",
    "                \"Right Bin\": [-1.57, 0.7, 0, -1.6, 0, 0.8, 0],\n",
    "                \"Helper 1\": [0.0, 0.175, 0.0, -1.675, 0.0, -0.275, 1.57],\n",
    "                \"Helper 2\":[-0.23670698873773643, 0.0869880191351135,\n",
    "                                -0.14848147591054467, -1.8845683628360246,\n",
    "                                    0.11582904486351761, -0.004801857412368382, 1.2343852721657547],\n",
    "                \"Helper 3\":[0.1901439226352184, 0.24791935747561322, 0.026105794277764514,\n",
    "                                -1.862822617783086, 0.2509538957570004, -0.2466088852764272, 1.3435623440091402],\n",
    "                \"Helper 4\":[-0.43303849430001307, 0.15450520762404665, 0.30334346818001523,\n",
    "                                -1.0376976962796667, 0.11739903437607266, 0.5348776947156673, 1.0783084430904017]}"
   ]
  },
  {
   "cell_type": "code",
   "execution_count": null,
   "metadata": {
    "scrolled": true
   },
   "outputs": [],
   "source": [
    "def calcRegion(seed, verbose):\n",
    "    start_time = time.time()\n",
    "    context = diagram.CreateDefaultContext()\n",
    "    plant_context = plant.GetMyContextFromRoot(context)\n",
    "    plant.SetPositions(plant_context, seed)\n",
    "    hpoly = IrisInConfigurationSpace(plant, plant_context, iris_options)\n",
    "    print(\"Seed:\", seed, \"\\tTime:\", time.time() - start_time, flush=True)\n",
    "    return hpoly\n",
    "\n",
    "def generateRegions(seed_points, verbose = True):\n",
    "    seeds = list(seed_points.values()) if type(seed_points) is dict else seed_points\n",
    "    regions = []\n",
    "    loop_time = time.time()\n",
    "    with mp.Pool(processes = CORE_CNT) as pool:\n",
    "        regions = pool.starmap(calcRegion, [[seed, verbose] for seed in seeds])\n",
    "    \n",
    "    if verbose:\n",
    "        print(\"Loop time:\", time.time() - loop_time)\n",
    "    \n",
    "    if type(seed_points) is dict:\n",
    "        return dict(list(zip(seed_points.keys(), regions)))\n",
    "    \n",
    "    return regions"
   ]
  },
  {
   "cell_type": "code",
   "execution_count": null,
   "metadata": {},
   "outputs": [],
   "source": [
    "regions = generateRegions(seed_points)"
   ]
  },
  {
   "cell_type": "code",
   "execution_count": null,
   "metadata": {},
   "outputs": [],
   "source": [
    "spp = LinearSPP(regions.copy())"
   ]
  },
  {
   "cell_type": "code",
   "execution_count": null,
   "metadata": {},
   "outputs": [],
   "source": [
    "SVG(spp.VisualizeGraph()) "
   ]
  },
  {
   "cell_type": "markdown",
   "metadata": {},
   "source": [
    "# Build PRM"
   ]
  },
  {
   "cell_type": "code",
   "execution_count": null,
   "metadata": {},
   "outputs": [],
   "source": [
    "collision_step_size = 0.02\n",
    "K = 5\n",
    "roadmap_size = 15000\n",
    "\n",
    "#initlize with seeds for fairness\n",
    "prm = PRM(plant, diagram, collision_step_size, SEED, K, list(seed_points.values()))\n",
    "\n",
    "def weighted_distance_function(q1,q2):\n",
    "    \"Weights used by TRI for iiwa\"\n",
    "    weights = np.array([2.0, 2.0, 2.0, 2.0, 1.0, 1.0, 1.0])\n",
    "    return np.sqrt(np.square(q1-q2).dot(weights))\n",
    "\n",
    "prm.distance_fn = weighted_distance_function "
   ]
  },
  {
   "cell_type": "markdown",
   "metadata": {},
   "source": [
    "### Load Roadmap if you don't want to wait 15 minutes"
   ]
  },
  {
   "cell_type": "code",
   "execution_count": null,
   "metadata": {},
   "outputs": [],
   "source": [
    "#TODO use wget here to download th prm map from server\n",
    "prm.load(\"15k_presplined.rmp\")"
   ]
  },
  {
   "cell_type": "markdown",
   "metadata": {},
   "source": [
    "### Or Grow it "
   ]
  },
  {
   "cell_type": "code",
   "execution_count": null,
   "metadata": {},
   "outputs": [],
   "source": [
    "stats = prm.GrowRoadMap(roadmap_size, True)\n",
    "print(f'Grow time: {stats[\"growing_time\"]} s') "
   ]
  },
  {
   "cell_type": "markdown",
   "metadata": {},
   "source": [
    "### Connect Narrow Passages with BiRRT to refine roadmap\n",
    "PRMs sampling is not dense enough to connect racks of the shelve. So we resort to using BiRRT to find paths through knwon narrow passages. Then we add the waypoints along the path to the prm roadmap."
   ]
  },
  {
   "cell_type": "code",
   "execution_count": null,
   "metadata": {},
   "outputs": [],
   "source": [
    "solve_timeout = 200\n",
    "goal_bias = 0.05\n",
    "step_size = 0.1\n",
    "birrt = BiRRT(plant, diagram, collision_step_size, SEED, step_size, goal_bias, solve_timeout)\n",
    "birrt.distance_fn = weighted_distance_function"
   ]
  },
  {
   "cell_type": "code",
   "execution_count": null,
   "metadata": {},
   "outputs": [],
   "source": [
    "def include_subtree_fn(node_val):\n",
    "    return list(node_val) in list(seed_points.values())\n",
    "\n",
    "subgraphs, subtrees = prm.SubgraphsIdxAndTrees(include_subtree_fn)\n",
    "print(f\"Found {len(subgraphs)} disjoint subgraphs of interest\")"
   ]
  },
  {
   "cell_type": "code",
   "execution_count": null,
   "metadata": {},
   "outputs": [],
   "source": [
    "start_time = time.time()\n",
    "\n",
    "main_graph, main_tree = subgraphs[0], subtrees[0]\n",
    "\n",
    "for secondary_tree in subtrees[1:]:\n",
    "    result, _, _ = birrt.connect(main_tree, secondary_tree, use_parallel = True)\n",
    "    #prm.addNodes(result.Path())\n",
    "\n",
    "print(f\"Roadmap extended to {prm.roadmap_size} in {round(time.time()-start_time,2)} s\")"
   ]
  },
  {
   "cell_type": "markdown",
   "metadata": {},
   "source": [
    "### Approach 2: Connect via RRT first and then grow roadmap"
   ]
  },
  {
   "cell_type": "code",
   "execution_count": null,
   "metadata": {},
   "outputs": [],
   "source": [
    "pairs_2_connect = [\n",
    "  [SimpleRRTPlannerState(seed_points[\"Left Bin\"]), SimpleRRTPlannerState(seed_points[\"Above Shelve\"])],\n",
    "  [SimpleRRTPlannerState(seed_points[\"Left Bin\"]), SimpleRRTPlannerState(seed_points[\"Left to Shelve\"])],\n",
    "  [SimpleRRTPlannerState(seed_points[\"Left Bin\"]), SimpleRRTPlannerState(seed_points[\"Front to Shelve\"])],\n",
    "    \n",
    "  [SimpleRRTPlannerState(seed_points[\"Right Bin\"]), SimpleRRTPlannerState(seed_points[\"Above Shelve\"])],\n",
    "  [SimpleRRTPlannerState(seed_points[\"Right Bin\"]), SimpleRRTPlannerState(seed_points[\"Right to Shelve\"])],\n",
    "  [SimpleRRTPlannerState(seed_points[\"Right Bin\"]), SimpleRRTPlannerState(seed_points[\"Front to Shelve\"])],\n",
    "    \n",
    "  [SimpleRRTPlannerState(seed_points[\"Above Shelve\"]), SimpleRRTPlannerState(seed_points[\"Left to Shelve\"])],\n",
    "  [SimpleRRTPlannerState(seed_points[\"Above Shelve\"]), SimpleRRTPlannerState(seed_points[\"Right to Shelve\"])],\n",
    "    \n",
    "  [SimpleRRTPlannerState(seed_points[\"Front to Shelve\"]), SimpleRRTPlannerState(seed_points[\"Top Rack\"])],\n",
    "  [SimpleRRTPlannerState(seed_points[\"Front to Shelve\"]), SimpleRRTPlannerState(seed_points[\"Middle Rack\"])],\n",
    "\n",
    "]\n",
    "\n",
    "\n",
    "#initlize with seeds for fairness\n",
    "prm = PRM(plant, diagram, collision_step_size, SEED, K)\n",
    "prm.distance_fn = weighted_distance_function \n",
    "\n",
    "start_time = time.time()\n",
    "\n",
    "for start_tree, goal_tree in  pairs_2_connect:\n",
    "    result, start_tree_extended, end_tree_extended = birrt.connect([start_tree], [goal_tree], use_parallel = True)\n",
    "    if len(result.Path()) == 0:\n",
    "        raise Exception(\"Failed to connect nodes\")\n",
    "    prm.addNodes(list(map(lambda x: x.GetValueImmutable(), start_tree_extended)) + list(map(lambda x: x.GetValueImmutable(), end_tree_extended)))\n",
    "\n",
    "print(f\"Roadmap extended to {prm2.roadmap_size} in {round(time.time()-start_time,2)} s\")"
   ]
  },
  {
   "cell_type": "code",
   "execution_count": null,
   "metadata": {},
   "outputs": [],
   "source": [
    "## continue growing roadmap\n",
    "stats = prm.GrowRoadMap(roadmap_size, True)\n",
    "print(f'Grow time: {stats[\"growing_time\"]} s') "
   ]
  },
  {
   "cell_type": "markdown",
   "metadata": {},
   "source": [
    "# Run Comparison"
   ]
  },
  {
   "cell_type": "code",
   "execution_count": null,
   "metadata": {},
   "outputs": [],
   "source": [
    "def getSPPPath(sequence, verbose = False):\n",
    "\n",
    "    path = [sequence[0]]\n",
    "    run_time = 0.0\n",
    "    for start_pt, goal_pt in zip(sequence[:-1], sequence[1:]):\n",
    "        spp = LinearSPP(regions.copy())\n",
    "        start_time = time.time()\n",
    "        waypoints, result_relax, best_result_relax, hard_result_relax = spp.SolvePath(start_pt, goal_pt,\n",
    "                                                                                       rounding=True,\n",
    "                                                                                       verbose=False,\n",
    "                                                                                       preprocessing = True)\n",
    "        if waypoints is None:\n",
    "            if verbose:\n",
    "                print(f\"Failed between {start_pt} and {goal_pt}\")\n",
    "            return None\n",
    "\n",
    "        \n",
    "        run_time += result_relax.get_solver_details().optimizer_time\n",
    "        max_hard_result_time = 0\n",
    "        for result in hard_result_relax:\n",
    "            if result.get_solver_details().optimizer_time > max_hard_result_time:\n",
    "                max_hard_result_time = result.get_solver_details().optimizer_time\n",
    "        run_time += max_hard_result_time\n",
    "        \n",
    "        path += waypoints.T[1:].tolist()\n",
    "    \n",
    "    return np.stack(path).T, run_time\n",
    "\n",
    "def shortcut(path):\n",
    "    \"\"\"Those values are used by TRI\"\"\"\n",
    "    return prm.shortcut(np.stack(path),\n",
    "                 max_iter = 200,\n",
    "                 max_failed_iter = 200,\n",
    "                 max_backtracking_steps = 0,\n",
    "                 max_shortcut_fraction = 1.0,\n",
    "                 resample_shortcuts_interval = 0.25,\n",
    "                 check_for_marginal_shortcuts = False)"
   ]
  },
  {
   "cell_type": "markdown",
   "metadata": {},
   "source": [
    "# Demonstration"
   ]
  },
  {
   "cell_type": "code",
   "execution_count": null,
   "metadata": {},
   "outputs": [],
   "source": [
    "demo_a = [seed_points[\"Above Shelve\"],\n",
    "          seed_points[\"Top Rack\"]]\n",
    "\n",
    "demo_b = [seed_points[\"Top Rack\"],\n",
    "          seed_points[\"Middle Rack\"]]\n",
    "\n",
    "demo_c = [seed_points[\"Middle Rack\"],\n",
    "          seed_points[\"Left Bin\"]]\n",
    "\n",
    "demo_d = [seed_points[\"Left Bin\"],\n",
    "          seed_points[\"Right Bin\"]]\n",
    "\n",
    "demo_e = [seed_points[\"Right Bin\"],\n",
    "          seed_points[\"Above Shelve\"]]\n",
    "\n",
    "\n",
    "demo_circle = [seed_points[\"Above Shelve\"],\n",
    "               seed_points[\"Top Rack\"],\n",
    "               seed_points[\"Middle Rack\"],\n",
    "               seed_points[\"Left Bin\"],\n",
    "               seed_points[\"Right Bin\"],\n",
    "               seed_points[\"Above Shelve\"]]\n",
    "\n",
    "##pertubated \n",
    "#used for paper \n",
    "#PRM fails to connect the following milestons\n",
    "milestones_pertubated =  {\"Above Shelve\": [0.26, 0.4, 0, -0.8, 0, 0.35, 1.57],   \n",
    "                \"Top Rack\":[-0.16, 0.4, 0.0, -1.41, 0.0, -0.26, 0.0],   \n",
    "                \"Middle Rack\":[-0.21, 0.75, 0.0, -1.57, 0.0, -0.69, 0],       \n",
    "                \"Left Bin\":[1.31, 0.7, 0.0, -1.6, 0.0, 0.8, 0.88], \n",
    "                \"Right Bin\":[-1.28, 0.7, 0.0, -1.6, 0.0, 0.8, 0.3]}  \n",
    "        \n",
    "#This was the best PRM could do\n",
    "milestones_pertubated =  {\"Above Shelve\": [-0.26, 0.4, 0, -0.8, 0, 0.35, 1.57],   \n",
    "                \"Top Rack\":[0.16, 0.4, 0.0, -1.41, 0.0, -0.26, 0.4],   \n",
    "                \"Middle Rack\":[0.21, 0.75, 0.0, -1.57, 0.0, -0.69, 0],       \n",
    "                \"Left Bin\":[1.3, 0.7, 0.0, -1.6, 0.0, 0.8, 1.41], \n",
    "                \"Right Bin\":[-1.46, 0.7, 0.0, -1.6, 0.0, 0.8, 0.37]} \n",
    "                         \n",
    "\n",
    "demo_a_pert = [milestones_pertubated[\"Above Shelve\"],\n",
    "          milestones_pertubated[\"Top Rack\"]]\n",
    "\n",
    "demo_b_pert = [milestones_pertubated[\"Top Rack\"],\n",
    "          milestones_pertubated[\"Middle Rack\"]]\n",
    "\n",
    "demo_c_pert = [milestones_pertubated[\"Middle Rack\"],\n",
    "          milestones_pertubated[\"Left Bin\"]]\n",
    "\n",
    "demo_d_pert = [milestones_pertubated[\"Left Bin\"],\n",
    "          milestones_pertubated[\"Right Bin\"]]\n",
    "\n",
    "demo_e_pert = [milestones_pertubated[\"Right Bin\"],\n",
    "          milestones_pertubated[\"Above Shelve\"]]\n",
    "\n",
    "\n",
    "demo_circle_pert = [milestones_pertubated[\"Above Shelve\"],\n",
    "               milestones_pertubated[\"Top Rack\"],\n",
    "               milestones_pertubated[\"Middle Rack\"],\n",
    "               milestones_pertubated[\"Left Bin\"],\n",
    "               milestones_pertubated[\"Right Bin\"],\n",
    "               milestones_pertubated[\"Above Shelve\"]]\n"
   ]
  },
  {
   "cell_type": "code",
   "execution_count": null,
   "metadata": {
    "scrolled": false
   },
   "outputs": [],
   "source": [
    "execute_demo = demo_circle_pert\n",
    "SPP_path, SPP_time = getSPPPath(execute_demo, verbose = False)\n",
    "linear_spp_traj = make_traj(SPP_path, speed = 2)\n",
    "print(f\"Linear SPP length: {round(get_traj_length(linear_spp_traj), 3)}, and time: {round(SPP_time, 3)} s\")\n",
    "\n",
    "PRM_path, PRM_time = prm.getPath(execute_demo, verbose = True)\n",
    "prm_traj = make_traj(PRM_path, speed = 2)\n",
    "print(f\"PRM length: {round(get_traj_length(prm_traj), 3)}, and time: {round(PRM_time, 3)} s\")\n",
    "\n",
    "sPRM_path, sPRM_time = prm.getPath(execute_demo, path_processing = shortcut)\n",
    "sprm_traj = make_traj(sPRM_path, speed = 2)\n",
    "print(f\"Smoothed PRM length: {round(get_traj_length(sprm_traj), 3)}, and time: {round(sPRM_time, 3)} s\")\n"
   ]
  },
  {
   "cell_type": "code",
   "execution_count": null,
   "metadata": {},
   "outputs": [],
   "source": [
    "vis_meshcat = visualize_trajectory(zmq_url,\n",
    "                    [linear_spp_traj,prm_traj,sprm_traj],\n",
    "                     show_line = True,\n",
    "                     iiwa_ghosts = execute_demo,\n",
    "                     alpha =  0.3,\n",
    "                     regions = [])\n"
   ]
  },
  {
   "cell_type": "code",
   "execution_count": null,
   "metadata": {},
   "outputs": [],
   "source": [
    "with open (\"SPP_PRM15k_comparison.html\", \"w\") as f:\n",
    "    f.write(vis_meshcat.static_html())"
   ]
  },
  {
   "cell_type": "markdown",
   "metadata": {},
   "source": [
    "## Comparison Table for Paper\n"
   ]
  },
  {
   "cell_type": "code",
   "execution_count": null,
   "metadata": {},
   "outputs": [],
   "source": [
    "#demos_for_paper = [demo_a, demo_b, demo_c, demo_d, demo_e]\n",
    "demos_for_paper = [demo_a_pert, demo_b_pert, demo_c_pert, demo_d_pert, demo_e_pert] #slight pertubations\n",
    "#extract trajectory and time \n",
    "data = map(lambda d:[getSPPPath(d),prm.getPath(d),prm.getPath(d, path_processing = shortcut)], demos_for_paper)\n",
    "#data = map(lambda d:[prm.getPath(d),prm.getPath(d, path_processing = shortcut)], demos_for_paper)\n",
    "#get length of trajectory\n",
    "data = map(lambda traj_time: [[get_traj_length(make_traj(trj)), t] for trj, t in traj_time], data)\n",
    "#flatten for pandas\n",
    "data = np.array(list(data))"
   ]
  },
  {
   "cell_type": "code",
   "execution_count": null,
   "metadata": {},
   "outputs": [],
   "source": [
    "cols = {\"Proposed Planner\":data[:,0].flatten(),\"Regular PRM\":data[:,1].flatten(),\"Shortcut PRM\":data[:,2].flatten()}\n",
    "\n",
    "index = pd.MultiIndex.from_tuples([('q1-q2', 'length (rad)'), ('q1-q2', 'runtime (s)'),\n",
    "                                    ('q2-q3', 'length (rad)'), ('q2-q3', 'runtime (s)'),\n",
    "                                    ('q3-q4', 'length (rad)'), ('q3-q4', 'runtime (s)'),\n",
    "                                    ('q4-q5', 'length (rad)'), ('q4-q5', 'runtime (s)'),\n",
    "                                    ('q5-q1', 'length (rad)'), ('q5-q1', 'runtime (s)'),], names=[\"Task\", \"\"])\n",
    "df = pd.DataFrame(data = cols, index=index )"
   ]
  },
  {
   "cell_type": "code",
   "execution_count": null,
   "metadata": {},
   "outputs": [],
   "source": [
    "df.round(2)"
   ]
  },
  {
   "cell_type": "code",
   "execution_count": null,
   "metadata": {},
   "outputs": [],
   "source": []
  }
 ],
 "metadata": {
  "kernelspec": {
   "display_name": "Python 3",
   "language": "python",
   "name": "python3"
  },
  "language_info": {
   "codemirror_mode": {
    "name": "ipython",
    "version": 3
   },
   "file_extension": ".py",
   "mimetype": "text/x-python",
   "name": "python",
   "nbconvert_exporter": "python",
   "pygments_lexer": "ipython3",
   "version": "3.8.10"
  }
 },
 "nbformat": 4,
 "nbformat_minor": 2
}
